{
 "cells": [
  {
   "cell_type": "code",
   "execution_count": 1,
   "id": "42b2ffc5",
   "metadata": {
    "ExecuteTime": {
     "end_time": "2023-07-06T20:24:28.150788Z",
     "start_time": "2023-07-06T20:24:28.142475Z"
    }
   },
   "outputs": [],
   "source": [
    "import sys\n",
    "sys.path.append('/gale/netapp/home/wtian/local/ballcools/src/')\n",
    "import pyballc\n",
    "import glob"
   ]
  },
  {
   "cell_type": "code",
   "execution_count": 2,
   "id": "aa702722",
   "metadata": {
    "ExecuteTime": {
     "end_time": "2023-07-06T20:24:28.155472Z",
     "start_time": "2023-07-06T20:24:28.152022Z"
    }
   },
   "outputs": [],
   "source": [
    "for fn in glob.glob('../src/test/*allc.tsv.gz'):\n",
    "    allc = pyballc.AllC(fn)\n",
    "    break"
   ]
  },
  {
   "cell_type": "code",
   "execution_count": 3,
   "id": "c5ebe4a6",
   "metadata": {
    "ExecuteTime": {
     "end_time": "2023-07-06T20:24:28.164309Z",
     "start_time": "2023-07-06T20:24:28.156303Z"
    }
   },
   "outputs": [
    {
     "data": {
      "text/plain": [
       "'chr1\\t10429\\t+\\tCCT\\t0\\t1\\t1'"
      ]
     },
     "execution_count": 3,
     "metadata": {},
     "output_type": "execute_result"
    }
   ],
   "source": [
    "allc.ReadLine()"
   ]
  },
  {
   "cell_type": "code",
   "execution_count": null,
   "id": "22df4fe0",
   "metadata": {
    "ExecuteTime": {
     "start_time": "2023-07-06T20:27:33.796Z"
    }
   },
   "outputs": [],
   "source": [
    "pyballc.AllC('haha')"
   ]
  },
  {
   "cell_type": "code",
   "execution_count": null,
   "id": "9934998a",
   "metadata": {},
   "outputs": [],
   "source": []
  },
  {
   "cell_type": "code",
   "execution_count": null,
   "id": "ef47b7df",
   "metadata": {},
   "outputs": [],
   "source": []
  },
  {
   "cell_type": "code",
   "execution_count": 3,
   "id": "d2e07f1d",
   "metadata": {
    "ExecuteTime": {
     "end_time": "2023-07-06T20:15:00.836277Z",
     "start_time": "2023-07-06T20:15:00.834257Z"
    }
   },
   "outputs": [],
   "source": [
    "allc = pyballc.AllC('../src/test/HBA_191114_H1930001_CB60_CBV_1_P2-4-D7-K8.allc.tsv.gz')"
   ]
  },
  {
   "cell_type": "code",
   "execution_count": null,
   "id": "9120e127",
   "metadata": {
    "ExecuteTime": {
     "start_time": "2023-07-06T20:10:21.959Z"
    }
   },
   "outputs": [],
   "source": [
    "allc = pyballc.AllC('haha.gz')"
   ]
  },
  {
   "cell_type": "code",
   "execution_count": 4,
   "id": "e8b6f334",
   "metadata": {
    "ExecuteTime": {
     "end_time": "2023-07-06T20:02:51.105776Z",
     "start_time": "2023-07-06T20:02:51.098890Z"
    }
   },
   "outputs": [
    {
     "data": {
      "text/plain": [
       "<pyballc.AllC; proxy of <Swig Object of type 'AllC *' at 0x7f20a81e0240> >"
      ]
     },
     "execution_count": 4,
     "metadata": {},
     "output_type": "execute_result"
    }
   ],
   "source": [
    "allc"
   ]
  },
  {
   "cell_type": "code",
   "execution_count": 8,
   "id": "cb454967",
   "metadata": {
    "ExecuteTime": {
     "end_time": "2023-07-06T20:00:06.089516Z",
     "start_time": "2023-07-06T20:00:05.967940Z"
    }
   },
   "outputs": [
    {
     "name": "stdout",
     "output_type": "stream",
     "text": [
      "allc.cc\t\t     ballc_iterator.cc\t pyballc.i\t   timer.cc\r\n",
      "allc.h\t\t     ballc_iterator.h\t pyballc.py\t   timer.h\r\n",
      "ballc.cc\t     CLI11.hpp\t\t pyballc.sh\t   todel\r\n",
      "ballc_files.h\t     context_matcher.cc  _pyballc.so\t   utils.cc\r\n",
      "ballc.h\t\t     context_matcher.h\t pyballc_wrap.cxx  utils.h\r\n",
      "ballc_index.cc\t     error\t\t __pycache__\t   version.h\r\n",
      "ballc_index_core.cc  main.cc\t\t routines.h\r\n",
      "ballc_index_core.h   meta_indexing.cc\t test\r\n",
      "ballc_index.h\t     meta_indexing.h\t test.sh\r\n"
     ]
    }
   ],
   "source": [
    "!ls /gale/netapp/home/wtian/local/ballcools/src/"
   ]
  },
  {
   "cell_type": "code",
   "execution_count": null,
   "id": "d3481386",
   "metadata": {},
   "outputs": [],
   "source": []
  }
 ],
 "metadata": {
  "kernelspec": {
   "display_name": "Python [conda env:sapiens]",
   "language": "python",
   "name": "conda-env-sapiens-py"
  },
  "language_info": {
   "codemirror_mode": {
    "name": "ipython",
    "version": 3
   },
   "file_extension": ".py",
   "mimetype": "text/x-python",
   "name": "python",
   "nbconvert_exporter": "python",
   "pygments_lexer": "ipython3",
   "version": "3.8.12"
  },
  "toc": {
   "base_numbering": 1,
   "nav_menu": {},
   "number_sections": true,
   "sideBar": true,
   "skip_h1_title": false,
   "title_cell": "Table of Contents",
   "title_sidebar": "Contents",
   "toc_cell": false,
   "toc_position": {},
   "toc_section_display": true,
   "toc_window_display": false
  }
 },
 "nbformat": 4,
 "nbformat_minor": 5
}
